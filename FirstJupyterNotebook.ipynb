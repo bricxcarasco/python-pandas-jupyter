{
 "cells": [
  {
   "cell_type": "markdown",
   "id": "alpha-march",
   "metadata": {},
   "source": [
    "## Typographic replacements\n",
    "\n",
    "Enable typographer option to see result.\n",
    "\n",
    "(c) (C) (r) (R) (tm) (TM) (p) (P) +-\n",
    "\n",
    "test.. test... test..... test?..... test!....\n",
    "\n",
    "!!!!!! ???? ,,  -- ---\n",
    "\n",
    "\"Smartypants, double quotes\" and 'single quotes'\n",
    "\n",
    "\n",
    "## Emphasis\n",
    "\n",
    "**This is bold text**\n",
    "\n",
    "__This is bold text__\n",
    "\n",
    "*This is italic text*\n",
    "\n",
    "_This is italic text_\n",
    "\n",
    "~~Strikethrough~~\n",
    "\n",
    "\n",
    "## Blockquotes\n",
    "\n",
    "\n",
    "> Blockquotes can also be nested...\n",
    ">> ...by using additional greater-than signs right next to each other...\n",
    "> > > ...or with spaces between arrows.\n",
    "\n",
    "\n",
    "## Lists\n",
    "\n",
    "Unordered\n",
    "\n",
    "+ Create a list by starting a line with `+`, `-`, or `*`\n",
    "+ Sub-lists are made by indenting 2 spaces:\n",
    "  - Marker character change forces new list start:\n",
    "    * Ac tristique libero volutpat at\n",
    "    + Facilisis in pretium nisl aliquet\n",
    "    - Nulla volutpat aliquam velit\n",
    "+ Very easy!"
   ]
  },
  {
   "cell_type": "code",
   "execution_count": 21,
   "id": "functional-purse",
   "metadata": {},
   "outputs": [],
   "source": [
    "name = 'John'"
   ]
  },
  {
   "cell_type": "code",
   "execution_count": 22,
   "id": "homeless-korean",
   "metadata": {},
   "outputs": [
    {
     "data": {
      "text/plain": [
       "'John'"
      ]
     },
     "execution_count": 22,
     "metadata": {},
     "output_type": "execute_result"
    }
   ],
   "source": [
    "name"
   ]
  },
  {
   "cell_type": "code",
   "execution_count": 23,
   "id": "registered-drive",
   "metadata": {},
   "outputs": [],
   "source": [
    "name = 'Corey'"
   ]
  },
  {
   "cell_type": "code",
   "execution_count": 24,
   "id": "grand-joseph",
   "metadata": {},
   "outputs": [
    {
     "data": {
      "text/plain": [
       "'Corey'"
      ]
     },
     "execution_count": 24,
     "metadata": {},
     "output_type": "execute_result"
    }
   ],
   "source": [
    "name"
   ]
  },
  {
   "cell_type": "code",
   "execution_count": 25,
   "id": "commercial-period",
   "metadata": {},
   "outputs": [
    {
     "name": "stdout",
     "output_type": "stream",
     "text": [
      "Package             Version\n",
      "------------------- ---------\n",
      "anyio               2.1.0\n",
      "appnope             0.1.2\n",
      "argon2-cffi         20.1.0\n",
      "async-generator     1.10\n",
      "attrs               20.3.0\n",
      "Babel               2.9.0\n",
      "backcall            0.2.0\n",
      "bleach              3.3.0\n",
      "certifi             2020.12.5\n",
      "cffi                1.14.5\n",
      "chardet             4.0.0\n",
      "contextvars         2.4\n",
      "dataclasses         0.8\n",
      "decorator           4.4.2\n",
      "defusedxml          0.6.0\n",
      "entrypoints         0.3\n",
      "idna                2.10\n",
      "immutables          0.15\n",
      "importlib-metadata  3.4.0\n",
      "ipykernel           5.4.3\n",
      "ipython             7.16.1\n",
      "ipython-genutils    0.2.0\n",
      "jedi                0.18.0\n",
      "Jinja2              2.11.3\n",
      "json5               0.9.5\n",
      "jsonschema          3.2.0\n",
      "jupyter-client      6.1.11\n",
      "jupyter-core        4.7.1\n",
      "jupyter-server      1.3.0\n",
      "jupyterlab          3.0.7\n",
      "jupyterlab-pygments 0.1.2\n",
      "jupyterlab-server   2.2.1\n",
      "MarkupSafe          1.1.1\n",
      "mistune             0.8.4\n",
      "nbclassic           0.2.6\n",
      "nbclient            0.5.2\n",
      "nbconvert           6.0.7\n",
      "nbformat            5.1.2\n",
      "nest-asyncio        1.5.1\n",
      "notebook            6.2.0\n",
      "packaging           20.9\n",
      "pandocfilters       1.4.3\n",
      "parso               0.8.1\n",
      "pexpect             4.8.0\n",
      "pickleshare         0.7.5\n",
      "pip                 20.3.3\n",
      "prometheus-client   0.9.0\n",
      "prompt-toolkit      3.0.16\n",
      "ptyprocess          0.7.0\n",
      "pycparser           2.20\n",
      "Pygments            2.8.0\n",
      "pyparsing           2.4.7\n",
      "pyrsistent          0.17.3\n",
      "python-dateutil     2.8.1\n",
      "pytz                2021.1\n",
      "pyzmq               22.0.3\n",
      "requests            2.25.1\n",
      "Send2Trash          1.5.0\n",
      "setuptools          51.3.3\n",
      "six                 1.15.0\n",
      "sniffio             1.2.0\n",
      "terminado           0.9.2\n",
      "testpath            0.4.4\n",
      "tornado             6.1\n",
      "traitlets           4.3.3\n",
      "typing-extensions   3.7.4.3\n",
      "urllib3             1.26.3\n",
      "wcwidth             0.2.5\n",
      "webencodings        0.5.1\n",
      "wheel               0.36.2\n",
      "zipp                3.4.0\n",
      "\u001b[33mWARNING: You are using pip version 20.3.3; however, version 21.0.1 is available.\n",
      "You should consider upgrading via the '/Users/bricxcarasco/BricxProjects/PYTHON/JUPYTER/venv/bin/python -m pip install --upgrade pip' command.\u001b[0m\n"
     ]
    }
   ],
   "source": [
    "!pip list"
   ]
  }
 ],
 "metadata": {
  "kernelspec": {
   "display_name": "Python 3",
   "language": "python",
   "name": "python3"
  },
  "language_info": {
   "codemirror_mode": {
    "name": "ipython",
    "version": 3
   },
   "file_extension": ".py",
   "mimetype": "text/x-python",
   "name": "python",
   "nbconvert_exporter": "python",
   "pygments_lexer": "ipython3",
   "version": "3.6.8"
  }
 },
 "nbformat": 4,
 "nbformat_minor": 5
}
